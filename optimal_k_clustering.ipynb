{
  "cells": [
    {
      "cell_type": "code",
      "source": [
        "!pip install Cmake"
      ],
      "metadata": {
        "id": "JSgusNsfk3jc"
      },
      "execution_count": null,
      "outputs": []
    },
    {
      "cell_type": "code",
      "source": [
        "!pip install wheel"
      ],
      "metadata": {
        "id": "nDLl4cVAlM0_"
      },
      "execution_count": null,
      "outputs": []
    },
    {
      "cell_type": "code",
      "source": [
        "!pip install attrdict3"
      ],
      "metadata": {
        "id": "2ZkS4VaslQy2"
      },
      "execution_count": null,
      "outputs": []
    },
    {
      "cell_type": "code",
      "source": [
        "!pip install bintrees"
      ],
      "metadata": {
        "id": "kELjaDhQmMtx"
      },
      "execution_count": null,
      "outputs": []
    },
    {
      "cell_type": "code",
      "execution_count": null,
      "metadata": {
        "id": "klQ_igw-nckO"
      },
      "outputs": [],
      "source": [
        "!pip install scikit-learn-extra"
      ]
    },
    {
      "cell_type": "code",
      "source": [
        "import bintrees"
      ],
      "metadata": {
        "id": "PwvUjSl8mpVQ"
      },
      "execution_count": null,
      "outputs": []
    },
    {
      "cell_type": "code",
      "execution_count": 31,
      "metadata": {
        "id": "ZwxN5y2SWNCA"
      },
      "outputs": [],
      "source": [
        "from copy import copy\n",
        "from matplotlib.pyplot import figure\n",
        "from scipy.optimize import linear_sum_assignment\n",
        "from scipy.special import binom\n",
        "from sklearn.cluster import KMeans\n",
        "from sklearn.covariance import MinCovDet\n",
        "from sklearn.discriminant_analysis import LinearDiscriminantAnalysis\n",
        "from sklearn_extra.cluster import KMedoids\n",
        "from sklearn.metrics import silhouette_score\n",
        "from sklearn.model_selection import train_test_split\n",
        "from sympy.combinatorics import Permutation\n",
        "from tqdm.notebook import tqdm\n",
        "import itertools\n",
        "import heapq\n",
        "import matplotlib.pyplot as plt\n",
        "import numpy as np\n",
        "import pandas as pd\n",
        "import scipy\n",
        "import time\n",
        "import warnings"
      ]
    },
    {
      "cell_type": "code",
      "execution_count": 32,
      "metadata": {
        "id": "V2Tv1AQmYUTr"
      },
      "outputs": [],
      "source": [
        "warnings.filterwarnings('ignore')"
      ]
    },
    {
      "cell_type": "code",
      "execution_count": 33,
      "metadata": {
        "id": "zv72YeAgp725"
      },
      "outputs": [],
      "source": [
        "def dist(a, b):\n",
        "    return np.sum((a - b)**2)"
      ]
    },
    {
      "cell_type": "code",
      "execution_count": 34,
      "metadata": {
        "id": "UNtwimui_Jeq"
      },
      "outputs": [],
      "source": [
        "def abcd(Y_1, Y_2):\n",
        "    a = np.sum(np.equal.outer(Y_1, Y_1) & np.equal.outer(Y_2, Y_2))\n",
        "    b = np.sum(np.equal.outer(Y_1, Y_1) & ~np.equal.outer(Y_2, Y_2))\n",
        "    c = np.sum(~np.equal.outer(Y_1, Y_1) & np.equal.outer(Y_2, Y_2))\n",
        "    d = np.sum(~np.equal.outer(Y_1, Y_1) & ~np.equal.outer(Y_2, Y_2))\n",
        "    return a, b, c, d"
      ]
    },
    {
      "cell_type": "code",
      "execution_count": 35,
      "metadata": {
        "id": "zHPEWYyUqTsP"
      },
      "outputs": [],
      "source": [
        "def RI(Y_1, Y_2):\n",
        "    a, b, c, d = abcd(Y_1, Y_2)\n",
        "    return (a + b) / (a + b + c + d)\n",
        "\n",
        "def FM(Y_1, Y_2):\n",
        "    a, b, c, d = abcd(Y_1, Y_2)\n",
        "    t = np.sqrt(a / (a + b) * a / (a + c))\n",
        "    return t\n",
        "\n",
        "def J(Y_1, Y_2):\n",
        "    a, b, c, d = abcd(Y_1, Y_2)\n",
        "    return a / (a + b + c)\n",
        "\n",
        "def NI(Y_1, Y_2):\n",
        "    a, b, c, d = abcd(Y_1, Y_2)\n",
        "    return (d - c) / np.sqrt(d + c)\n",
        "\n",
        "def SSI(Y_1, Y_2):\n",
        "    a, b, c, d = abcd(Y_1, Y_2)\n",
        "    return a/(a + 2 * (b + c))\n",
        "\n",
        "def CDI(Y_1, Y_2):\n",
        "    a, b, c, d = abcd(Y_1, Y_2)\n",
        "    return 2 * a /(2 * a + b + c)"
      ]
    },
    {
      "cell_type": "code",
      "source": [
        "def get_A(k, N, number):\n",
        "    n_min = N // (number * k)\n",
        "    random_values = np.random.rand(k - 1)\n",
        "    random_values = np.append(random_values, 0)\n",
        "    random_values = np.append(random_values, 1)\n",
        "    random_values = np.sort(random_values)\n",
        "    shifts = []\n",
        "    for i in range(1, k + 1):\n",
        "        shifts.append(random_values[i] - random_values[i - 1])\n",
        "    return [round(n_min + (N - k * n_min) * shifts[i]) for i in range(k)]"
      ],
      "metadata": {
        "id": "pNhuTlQu027r"
      },
      "execution_count": 36,
      "outputs": []
    },
    {
      "cell_type": "code",
      "source": [
        "A = get_A(7, 1000, 10)"
      ],
      "metadata": {
        "id": "wQBYXSE9TP9G"
      },
      "execution_count": 37,
      "outputs": []
    },
    {
      "cell_type": "code",
      "execution_count": 38,
      "metadata": {
        "id": "7IHbuUsObQ91"
      },
      "outputs": [],
      "source": [
        "class Synthetic_data_generator:\n",
        "\n",
        "    def __init__(self, Ns, V, alpha):\n",
        "        self.K = len(Ns)\n",
        "        self.N = np.sum(Ns)\n",
        "        self.Ns = Ns\n",
        "        self.V = V\n",
        "        self.alpha = alpha\n",
        "        assert 0 < self.alpha < 1\n",
        "\n",
        "    def find_centroids(self):\n",
        "        self.centroids = np.random.uniform(self.alpha - 1, 1 - self.alpha, (self.K, self.V))\n",
        "\n",
        "    def add_elem(self, i, elem, matrix):\n",
        "        if i == 0:\n",
        "            return elem\n",
        "        return np.append(matrix, elem, axis=0)\n",
        "\n",
        "    def find_clusters(self):\n",
        "        matrix = None\n",
        "        self.find_centroids()\n",
        "        for i in range(self.K):\n",
        "            s_k = np.random.uniform(0.05, 0.1, self.V)\n",
        "            centroids = np.repeat(np.array([self.centroids[i]]), self.Ns[i], axis=0)\n",
        "            elem = np.random.normal(0, s_k, (self.Ns[i], self.V)) + centroids\n",
        "            matrix = self.add_elem(i, elem, matrix)\n",
        "        return matrix"
      ]
    },
    {
      "cell_type": "code",
      "source": [
        "my_class = Synthetic_data_generator(A, 11, 0.25)"
      ],
      "metadata": {
        "id": "Wrzsqw2c0_XD"
      },
      "execution_count": 39,
      "outputs": []
    },
    {
      "cell_type": "code",
      "source": [
        "Data = my_class.find_clusters()"
      ],
      "metadata": {
        "id": "asYMncrV16Rk"
      },
      "execution_count": 40,
      "outputs": []
    },
    {
      "cell_type": "code",
      "source": [
        "def get_data(k, N, d, eps):\n",
        "    A = get_A(k, N, 10)\n",
        "    my_class = Synthetic_data_generator(A, d, eps)\n",
        "    clusters = my_class.find_clusters()\n",
        "    centers = my_class.centroids\n",
        "    plt.figure(0)\n",
        "    plt.scatter(centers[:, 0], centers[:, 1], c='black', s=200, alpha=0.5)\n",
        "    return A, clusters, centers"
      ],
      "metadata": {
        "id": "z0u3g6exzUL1"
      },
      "execution_count": 41,
      "outputs": []
    },
    {
      "cell_type": "code",
      "execution_count": 42,
      "metadata": {
        "id": "WVXejBrCExZF"
      },
      "outputs": [],
      "source": [
        "class SSE:\n",
        "\n",
        "    def __init__(self, X, centroids):\n",
        "        self.X = X\n",
        "        self.centroids = centroids\n",
        "\n",
        "    def eucl(self, a, b):\n",
        "        return np.sum((a - b)**2)\n",
        "\n",
        "    def find_SSE(self):\n",
        "        return np.sum([min(map(lambda y : self.eucl(self.X[i], y), self.centroids)) for i in range(len(self.X))])"
      ]
    },
    {
      "cell_type": "code",
      "execution_count": null,
      "metadata": {
        "id": "-VwNw4D5vPSa"
      },
      "outputs": [],
      "source": [
        "class LOG_Means:\n",
        "\n",
        "    def __init__(self, X, data, k_low, k_high, eps):\n",
        "        self.X = X\n",
        "        self.data = data\n",
        "        self.k_started_low = k_low\n",
        "        self.k_started_high = k_high\n",
        "        self.k_low = k_low\n",
        "        self.k_high = k_high\n",
        "        self.eps = eps\n",
        "\n",
        "    def k_means_sse(self, my_k):\n",
        "        KMs = KMeans(n_clusters=my_k, random_state=0).fit(self.X)\n",
        "        centroids = KMs.cluster_centers_\n",
        "        my_sse = SSE(self.X, centroids).find_SSE()\n",
        "        return my_sse\n",
        "\n",
        "    def make_insert(self, k, K):\n",
        "        my_SSE = self.k_means_sse(k)\n",
        "        K.insert(k, my_SSE)\n",
        "        return my_SSE, K\n",
        "\n",
        "    def find_start(self):\n",
        "        self.k_low = self.k_low - 1\n",
        "        K, M, H = bintrees.FastRBTree(), {}, []\n",
        "        SSE_low, K = self.make_insert(self.k_low, K)\n",
        "        SSE_high, K = self.make_insert(self.k_high, K)\n",
        "        return self.k_low, K, M, H, SSE_low, SSE_high\n",
        "\n",
        "    def adjacent(self, a, b):\n",
        "        return abs(a - b) == 1\n",
        "\n",
        "    def insert_ratio(self, M, k, SSE_1, SSE_2, H=[], flag=False):\n",
        "        ratio = SSE_1 / SSE_2\n",
        "        M[k] = ratio\n",
        "        if flag:\n",
        "            heapq.heappush(H, (ratio, k))\n",
        "        return ratio, M, H\n",
        "\n",
        "    def make_iteraion(self, K, M, H, SSE_low, SSE_high):\n",
        "        k_mid = (self.k_high + self.k_low) // 2\n",
        "        SSE_mid, K = self.make_insert(k_mid, K)\n",
        "        ratio_left, M, H = self.insert_ratio(M, k_mid, SSE_low, SSE_mid, H, True)\n",
        "        ratio_right, M, H = self.insert_ratio(M, self.k_high, SSE_mid, SSE_high, H, True)\n",
        "        self.k_high = heapq.nlargest(1, H)[0][1]\n",
        "        self.k_low, SSE_low = K.prev_item(self.k_high)\n",
        "        SSE_high = K.get(self.k_high)\n",
        "        return K, M, H, SSE_low, SSE_high\n",
        "\n",
        "    def find_k_bend(self, M):\n",
        "        highest_ratio = -float('inf')\n",
        "        k_bend = self.k_low\n",
        "        for k in range(self.k_low, self.k_high + 1):\n",
        "            if k in M and M[k] > highest_ratio:\n",
        "                highest_ratio = M[k]\n",
        "                k_bend = k\n",
        "        return k_bend\n",
        "\n",
        "    def K_M_change(self, K, M):\n",
        "        for k in range(self.k_low, self.k_high + 1):\n",
        "            SSE_prev = K.floor_item(k)[1]\n",
        "            if K.__contains__(k):\n",
        "                SSE_k = K.get(k)\n",
        "            else:\n",
        "                SSE_k, K = self.make_insert(k, K)\n",
        "            ratio_k, M, _ = self.insert_ratio(M, k, SSE_prev, SSE_k)\n",
        "        return M\n",
        "\n",
        "    def find(self):\n",
        "        self.k_low, K, M, H, SSE_low, SSE_high = self.find_start()\n",
        "        while(not self.adjacent(self.k_low, self.k_high)):\n",
        "            K, M, H, SSE_low, SSE_high = self.make_iteraion(K, M, H, SSE_low, SSE_high)\n",
        "        if self.eps > 0:\n",
        "            k_bend = self.find_k_bend(M)\n",
        "            self.k_low, self.k_high = max(self.k_started_low, k_bend - int(self.eps / 2)),\n",
        "            min(self.k_started_high, k_bend + int(self.eps / 2))\n",
        "            M = self.K_M_change(K, M)\n",
        "        k_bend = self.find_k_bend(M)\n",
        "        return k_bend, KMeans(n_clusters=k_bend, random_state=0).fit(self.X).labels_"
      ]
    },
    {
      "cell_type": "code",
      "execution_count": null,
      "metadata": {
        "id": "10HmHLvf-Zpx"
      },
      "outputs": [],
      "source": [
        "class SecondAlg:\n",
        "\n",
        "    def __init__(self, X, distance):\n",
        "        self.X = X\n",
        "        self.n = len(self.X)\n",
        "        self.distance = distance\n",
        "\n",
        "    def find_distance_matrix(self):\n",
        "        Y = np.array([[0 for i in range(len(self.X))] for j in range(len(self.X))])\n",
        "        for i, elem1 in enumerate(self.X):\n",
        "            for j, elem2 in enumerate(self.X):\n",
        "                Y[i][j] = self.distance(elem1, elem2)\n",
        "        etta = np.sum(Y) / (2 * self.n * (self.n - 1))\n",
        "        for i in range(len(self.X)):\n",
        "            Y[i][i] = etta\n",
        "        self.dst_matr = Y\n",
        "        self.k = len(self.dst_matr)\n",
        "\n",
        "    def Hungarian(self):\n",
        "        permutation = [0 for i in range(len(self.dst_matr))]\n",
        "        row, columns = linear_sum_assignment(self.dst_matr)\n",
        "        for i, elem in enumerate(row):\n",
        "            permutation[elem] = columns[i]\n",
        "        self.permutation = permutation\n",
        "\n",
        "    def find_cycles(self):\n",
        "        p = Permutation(self.permutation)\n",
        "        self.clusters = p.full_cyclic_form\n",
        "        self.k_hatch = len(self.clusters)\n",
        "\n",
        "    def inter_dist(self, cluster_1, cluster_2):\n",
        "        if len(cluster_1) == 0 or len(cluster_2) == 0:\n",
        "            return 0\n",
        "        distance = 0\n",
        "        for i in range(len(cluster_1)):\n",
        "            for j in range(len(cluster_2)):\n",
        "                distance += self.dst_matr[cluster_1[i]][cluster_2[j]]\n",
        "        distance /= (len(cluster_1) * len(cluster_2))\n",
        "        return distance\n",
        "\n",
        "\n",
        "    def get_matrix_for_cycl(self):\n",
        "        M = [[0 for i in range(self.k_hatch)] for j in range(self.k_hatch)]\n",
        "        for i in range(self.k_hatch):\n",
        "            for j in range(self.k_hatch):\n",
        "                M[i][j] = self.inter_dist(self.clusters[i], self.clusters[j])\n",
        "        self.dst_matr = np.array(M)\n",
        "\n",
        "    def find(self):\n",
        "        self.find_distance_matrix()\n",
        "        while True:\n",
        "            self.Hungarian()\n",
        "            self.find_cycles()\n",
        "            self.get_matrix_for_cycl()\n",
        "            if self.k == self.k_hatch:\n",
        "                return self.k\n",
        "            self.k = self.k_hatch\n",
        "        return self.k\n"
      ]
    },
    {
      "cell_type": "code",
      "execution_count": null,
      "metadata": {
        "id": "mN2WVEXO_105"
      },
      "outputs": [],
      "source": [
        "class Criterion:\n",
        "\n",
        "    def __init__(self, X):\n",
        "        self.X = X\n",
        "        self.n = len(self.X)\n",
        "        self.k = 1\n",
        "        self.VI = [-1]\n",
        "        self.VI.append(0)\n",
        "\n",
        "    def depths(self, V):\n",
        "        a = MinCovDet(random_state=0).fit(V).dist_\n",
        "        return 1 / (1 + a)\n",
        "\n",
        "    def find_within(self, j, left, right):\n",
        "        my_D = self.depths(self.X[left:right])\n",
        "        my_u = np.max(my_D)\n",
        "        summa = np.mean(my_u - my_D)\n",
        "        if j == 0:\n",
        "            self.D = []\n",
        "        self.D.append(my_D)\n",
        "        return my_u, summa\n",
        "\n",
        "    def find_between(self, j, left, right):\n",
        "        return np.min(np.delete(np.mean(np.add.outer(np.array(self.u), -self.D[j]), axis=1), j))\n",
        "\n",
        "    def find_left_right(self, j, Range):\n",
        "        if j + 1 != self.k:\n",
        "            left = j * Range\n",
        "            right = left + Range\n",
        "        else:\n",
        "            left = j * Range\n",
        "            right = self.n\n",
        "        return left, right\n",
        "\n",
        "    def find_u_wd(self):\n",
        "        for j in range(self.k):\n",
        "            left, right = self.find_left_right(j, self.Range)\n",
        "            self.u[j], self.wd[j] = self.find_within(j, left, right)\n",
        "\n",
        "    def find_bd(self):\n",
        "        for j in range(self.k):\n",
        "            left, right = self.find_left_right(j, self.Range)\n",
        "            self.bd[j] = self.find_between(j, left, right)\n",
        "\n",
        "    def find(self):\n",
        "        while self.VI[self.k] >= self.VI[self.k - 1]:\n",
        "            self.k += 1\n",
        "            self.Range = self.n // self.k\n",
        "            self.wd, self.bd, self.u = [0 for i in range(self.k)], [0 for i in range(self.k)], [0 for i in range(self.k)]\n",
        "            self.find_u_wd(), self.find_bd()\n",
        "            self.dd = np.array(self.wd) - np.array(self.bd)\n",
        "            self.VI.append(np.mean(self.dd))\n",
        "        res_k, index, cluster_labels = self.k - 1, 0, [0 for i in range(self.n)]\n",
        "        for i in range(self.n):\n",
        "            cluster_labels[i] = index\n",
        "            if i % self.Range == 0:\n",
        "                index += 1\n",
        "        return index, cluster_labels"
      ]
    },
    {
      "cell_type": "code",
      "execution_count": null,
      "metadata": {
        "id": "g4pG9NpEJlLN"
      },
      "outputs": [],
      "source": [
        "def get_uniform(my_low, my_high, my_size):\n",
        "    return np.random.uniform(low=my_low, high=my_high, size=my_size)"
      ]
    },
    {
      "cell_type": "code",
      "execution_count": null,
      "metadata": {
        "id": "oIRVHVCVrnEH"
      },
      "outputs": [],
      "source": [
        "class CLEST:\n",
        "\n",
        "    def __init__(self, X, B, B_0, K, P, CL, p_max, d_min, generate_data, index):\n",
        "        self.X = X\n",
        "        self.B = B\n",
        "        self.B_0 = B_0\n",
        "        self.K = K\n",
        "        self.P = P\n",
        "        self.CL = CL\n",
        "        self.index = index\n",
        "        self.generate_data = generate_data\n",
        "        self.p_max = p_max\n",
        "        self.d_min = d_min\n",
        "\n",
        "    def get_median(self, data, k):\n",
        "        ex_inds = np.array([0.0 for i in range(self.B)])\n",
        "        for i in range(self.B):\n",
        "            X_1, X_2 = train_test_split(data, train_size=2/3)\n",
        "            Y_1 = self.P(n_clusters=k, method='pam').fit(X_1).labels_\n",
        "            self.CL.fit(X_1, Y_1)\n",
        "            Y_2_class = self.CL.predict(X_2)\n",
        "            Y_2_clust = self.P(k, method='pam').fit(X_2).labels_\n",
        "            ex_inds[i] = self.index(Y_2_class, Y_2_clust)\n",
        "        return np.median(ex_inds)\n",
        "\n",
        "\n",
        "    def find_for_cluster(self, k):\n",
        "        t_k = self.get_median(self.X, k)\n",
        "        t_ks = np.array([0.0 for i in range(self.B_0)])\n",
        "        for i in range(self.B_0):\n",
        "            func, my_low, my_high, my_size, my_k = self.generate_data\n",
        "            X_i = func(my_low, my_high, my_size)\n",
        "            t_ks[i] = self.get_median(X_i, my_k)\n",
        "        t_k0 = np.average(t_ks)\n",
        "        p_k = np.average(t_ks >= t_k)\n",
        "        d_k = t_k - t_k0\n",
        "        return p_k, d_k\n",
        "\n",
        "\n",
        "    def find(self):\n",
        "        p, d = {}, {}\n",
        "        for k in range(2, self.K + 1):\n",
        "            p[k], d[k] = self.find_for_cluster(k)\n",
        "        res_k, d_max = None, -float('inf')\n",
        "        for k in range(2, self.K + 1):\n",
        "            if p[k] <= self.p_max and d[k] >= self.d_min:\n",
        "                if d[k] >= d_max:\n",
        "                    d_max, res_k = d[k], k\n",
        "        if type(res_k) == type(None):\n",
        "            return 1\n",
        "        return res_k"
      ]
    },
    {
      "cell_type": "code",
      "execution_count": null,
      "metadata": {
        "id": "jdVcGxGZrtpH"
      },
      "outputs": [],
      "source": [
        "class U_K_Means:\n",
        "\n",
        "    def __init__(self, X, eps):\n",
        "        self.X = X\n",
        "        self.eps = eps\n",
        "        self.n = len(self.X)\n",
        "        assert self.n > 0\n",
        "        self.d = len(self.X[0])\n",
        "        self.c = [self.n]\n",
        "        self.alpha = [[1/self.n for k in range(self.c[0])]]\n",
        "        self.a = [[self.X[k] for k in range(self.c[0])]]\n",
        "        self.gamma = [1]\n",
        "        self.betta = [1]\n",
        "        self.z = [None]\n",
        "        self.t = 0\n",
        "\n",
        "    def find_etta(self):\n",
        "        if self.t == 0:\n",
        "            return 1\n",
        "        return min(1, 1/self.t**(int(self.d / 2 - 1)))\n",
        "\n",
        "    def eucl(self,x, y):\n",
        "        return np.sum((x - y)**2)\n",
        "\n",
        "    def z_expression(self, i, k):\n",
        "        return self.eucl(self.X[i], self.a[self.t][k]) - self.gamma[self.t] * np.log(self.alpha[self.t][k])\n",
        "\n",
        "    def find_z(self):\n",
        "        z = [[0 for k in range(self.c[self.t])] for i in range(self.n)]\n",
        "        for i in range(self.n):\n",
        "            minimum = np.float('inf')\n",
        "            for k in range(self.c[self.t]):\n",
        "                cur_exp = self.z_expression(i, k)\n",
        "                if cur_exp < minimum:\n",
        "                    minimum = cur_exp\n",
        "            for k in range(self.c[self.t]):\n",
        "                cur_exp = self.z_expression(i, k)\n",
        "                if cur_exp == minimum:\n",
        "                    z[i][k] = 1\n",
        "        return z\n",
        "\n",
        "    def find_gamma(self):\n",
        "        return np.exp(-self.c[self.t] / 250)\n",
        "\n",
        "    def find_useful_summa(self):\n",
        "        useful_summa = 0\n",
        "        for s in range(self.c[self.t]):\n",
        "            useful_summa += self.alpha[self.t][s] * np.log(self.alpha[self.t][s])\n",
        "        return useful_summa\n",
        "\n",
        "    def find_alpha(self):\n",
        "        alpha = [0 for k in range(self.c[self.t])]\n",
        "        useful_summa = self.find_useful_summa()\n",
        "        for k in range(self.c[self.t]):\n",
        "            for i in range(self.n):\n",
        "                alpha[k] += self.z[self.t + 1][i][k] / self.n\n",
        "            alpha[k] += self.betta[self.t] / self.gamma[self.t] * self.alpha[self.t][k] * (np.log(self.alpha[self.t][k]) - useful_summa)\n",
        "        return alpha\n",
        "\n",
        "\n",
        "    def find_left(self):\n",
        "        alpha_t = self.alpha[self.t]\n",
        "        alpha_t1 = self.alpha[self.t + 1]\n",
        "        left = 0\n",
        "        for k in range(self.c[self.t]):\n",
        "            left += np.exp(-self.etta * self.n * abs(alpha_t1[k] - alpha_t[k]))\n",
        "        left /= self.c[self.t]\n",
        "        return left\n",
        "\n",
        "\n",
        "    def find_numerator(self):\n",
        "        maximum = -np.float('inf')\n",
        "        for k in range(self.c[self.t]):\n",
        "            summa = 0\n",
        "            for i in range(self.n):\n",
        "                summa += self.z[self.t + 1][i][k]\n",
        "            summa /= self.n\n",
        "            if summa >= maximum:\n",
        "                maximum = summa\n",
        "        return 1 - maximum\n",
        "\n",
        "\n",
        "    def find_denominator(self):\n",
        "        maximum = -np.float('inf')\n",
        "        for k in range(self.c[self.t]):\n",
        "            summa = 0\n",
        "            for k2 in range(self.c[self.t]):\n",
        "                summa += np.log(self.alpha[self.t][k2])\n",
        "            summa *= self.alpha[self.t][k]\n",
        "            if summa >= maximum:\n",
        "                maximum = summa\n",
        "        return -maximum\n",
        "\n",
        "\n",
        "    def find_right(self):\n",
        "        return self.find_numerator() / self.find_denominator()\n",
        "\n",
        "\n",
        "    def find_betta(self):\n",
        "        left = self.find_left()\n",
        "        right = self.find_right()\n",
        "        return min(left, right)\n",
        "\n",
        "\n",
        "    def find_c(self):\n",
        "        new_answer = 0\n",
        "        for k in range(self.c[self.t]):\n",
        "            if self.alpha[self.t + 1][k] > 1/self.n:\n",
        "                new_answer += 1\n",
        "        return new_answer\n",
        "\n",
        "    def update_alpha(self, new_c):\n",
        "        new_alpha = [0 for k in range(new_c)]\n",
        "        new_k = 0\n",
        "        for k in range(self.c[self.t]):\n",
        "            if self.alpha[self.t + 1][k] > 1/self.n:\n",
        "                new_alpha[new_k] = self.alpha[self.t + 1][k]\n",
        "                new_k += 1\n",
        "        return new_alpha\n",
        "\n",
        "\n",
        "    def update_z(self, new_c):\n",
        "        new_z = [[0 for k in range(new_c)] for i in range(self.n)]\n",
        "        for i in range(self.n):\n",
        "            new_k = 0\n",
        "            for k in range(self.c[self.t]):\n",
        "                if self.alpha[self.t + 1][k] > 1/self.n:\n",
        "                    new_z[i][new_k] = self.z[self.t + 1][i][k]\n",
        "                    new_k += 1\n",
        "        return new_z\n",
        "\n",
        "\n",
        "\n",
        "    def update(self):\n",
        "        new_c = self.c[self.t + 1]\n",
        "        new_alpha = self.update_alpha(new_c)\n",
        "        new_z = self.update_z(new_c)\n",
        "        summa1 = np.sum(new_alpha)\n",
        "        for k in range(new_c):\n",
        "            new_alpha[k] /= summa1\n",
        "        for i in range(self.n):\n",
        "            summa2 = np.sum(new_z[i])\n",
        "            for k in range(new_c):\n",
        "                new_z[i][k] /= summa2\n",
        "        return new_alpha, new_z\n",
        "\n",
        "\n",
        "    def find_a(self):\n",
        "        a = []\n",
        "        for k in range(self.c[self.t + 1]):\n",
        "            summa1 = 0\n",
        "            summa2 = 0\n",
        "            for i in range(self.n):\n",
        "                summa1 += self.z[self.t + 1][i][k] * self.X[i]\n",
        "                summa2 += self.z[self.t + 1][i][k]\n",
        "            a.append(list(summa1/summa2))\n",
        "        return a\n",
        "\n",
        "\n",
        "    def find_change(self):\n",
        "        res_dist = -np.float('inf')\n",
        "        for k in range(self.c[self.t]):\n",
        "            cur_dist = self.eucl(self.a[self.t + 1][k], self.a[self.t][k])\n",
        "            if cur_dist > res_dist:\n",
        "                res_dist = cur_dist\n",
        "        return res_dist\n",
        "\n",
        "\n",
        "    def find(self):\n",
        "        while True:\n",
        "            self.etta = self.find_etta()\n",
        "            self.z.append(self.find_z())\n",
        "            self.gamma.append(self.find_gamma())\n",
        "            self.alpha.append(self.find_alpha())\n",
        "            self.betta.append(self.find_betta())\n",
        "            self.c.append(self.find_c())\n",
        "            new_alpha, new_z = self.update()\n",
        "            self.alpha[self.t + 1] = new_alpha\n",
        "            self.z[self.t + 1] = new_z\n",
        "            if self.t >= 60:\n",
        "                if self.c[self.t - 60] - self.c[self.t] == 0:\n",
        "                    self.betta[self.t + 1] = 0\n",
        "            self.a.append(self.find_a())\n",
        "            if self.c[self.t] == self.c[self.t + 1]:\n",
        "                if self.find_change() < self.eps:\n",
        "                    break\n",
        "            self.t += 1\n",
        "        return self.c[-1], self.a[-1], self.z[-1]"
      ]
    },
    {
      "cell_type": "code",
      "source": [
        "st1 = time.time()\n",
        "k1 = LOG_Means(Data, pd.DataFrame(Data), 2, 21, 0).find()\n",
        "end1 = time.time()\n",
        "my_time1 = end1 - st1"
      ],
      "metadata": {
        "id": "6A7-5cG62Pbt"
      },
      "execution_count": null,
      "outputs": []
    },
    {
      "cell_type": "code",
      "source": [
        "my_time1"
      ],
      "metadata": {
        "colab": {
          "base_uri": "https://localhost:8080/"
        },
        "id": "xqXCO6o334a7",
        "outputId": "eb1c2e36-5b41-405d-a205-3057987c6947"
      },
      "execution_count": null,
      "outputs": [
        {
          "output_type": "execute_result",
          "data": {
            "text/plain": [
              "3.2791433334350586"
            ]
          },
          "metadata": {},
          "execution_count": 64
        }
      ]
    },
    {
      "cell_type": "code",
      "source": [
        "st2 = time.time()\n",
        "k2 = SecondAlg(Data, dist).find()\n",
        "end2 = time.time()\n",
        "my_time2 = end2 - st2"
      ],
      "metadata": {
        "id": "HGtHSbie4RcT"
      },
      "execution_count": null,
      "outputs": []
    },
    {
      "cell_type": "code",
      "source": [
        "my_time2"
      ],
      "metadata": {
        "colab": {
          "base_uri": "https://localhost:8080/"
        },
        "id": "uY3fG7qs4e1_",
        "outputId": "05c712e5-b1ee-4fc4-ba41-cc586e6c36ae"
      },
      "execution_count": null,
      "outputs": [
        {
          "output_type": "execute_result",
          "data": {
            "text/plain": [
              "13.360825300216675"
            ]
          },
          "metadata": {},
          "execution_count": 66
        }
      ]
    },
    {
      "cell_type": "code",
      "source": [
        "st3 = time.time()\n",
        "k3 = Criterion(Data).find()\n",
        "end3 = time.time()\n",
        "my_time3 = end3 - st3"
      ],
      "metadata": {
        "id": "58FXvVil4oaQ"
      },
      "execution_count": null,
      "outputs": []
    },
    {
      "cell_type": "code",
      "source": [
        "my_time3"
      ],
      "metadata": {
        "colab": {
          "base_uri": "https://localhost:8080/"
        },
        "id": "zQUS9E5Q4s6-",
        "outputId": "0a6fbdff-6201-41f6-d68d-9e94d92a1cbd"
      },
      "execution_count": null,
      "outputs": [
        {
          "output_type": "execute_result",
          "data": {
            "text/plain": [
              "6.003720998764038"
            ]
          },
          "metadata": {},
          "execution_count": 68
        }
      ]
    },
    {
      "cell_type": "code",
      "source": [
        "st4 = time.time()\n",
        "k4 = CLEST(Data, 20, 20, 2 * 7, KMedoids, LinearDiscriminantAnalysis(solver='lsqr', shrinkage=1), 0.05, 0.05, (get_uniform, 10, 20, (40, 10), 3), FM).find()\n",
        "end4 = time.time()\n",
        "my_time4 = end4 - st4"
      ],
      "metadata": {
        "id": "Thxm8Ar45MM5"
      },
      "execution_count": null,
      "outputs": []
    },
    {
      "cell_type": "code",
      "source": [
        "my_time4"
      ],
      "metadata": {
        "colab": {
          "base_uri": "https://localhost:8080/"
        },
        "id": "R3rBaP7_4zIX",
        "outputId": "af607ef9-199b-4691-e87c-cfff3695450c"
      },
      "execution_count": null,
      "outputs": [
        {
          "output_type": "execute_result",
          "data": {
            "text/plain": [
              "180.94302344322205"
            ]
          },
          "metadata": {},
          "execution_count": 72
        }
      ]
    },
    {
      "cell_type": "code",
      "source": [
        "st5 = time.time()\n",
        "k5 = U_K_Means(Data, 0.001).find()\n",
        "end5 = time.time()\n",
        "my_time5 = end5 - st5"
      ],
      "metadata": {
        "id": "kimNkPOe9G-H"
      },
      "execution_count": null,
      "outputs": []
    },
    {
      "cell_type": "code",
      "source": [
        "my_time5"
      ],
      "metadata": {
        "colab": {
          "base_uri": "https://localhost:8080/"
        },
        "id": "4zwvfOtb9dKn",
        "outputId": "9aa250db-a2ba-4589-cdd7-cfcf28745b20"
      },
      "execution_count": null,
      "outputs": [
        {
          "output_type": "execute_result",
          "data": {
            "text/plain": [
              "25.16864275932312"
            ]
          },
          "metadata": {},
          "execution_count": 76
        }
      ]
    },
    {
      "cell_type": "code",
      "execution_count": null,
      "metadata": {
        "id": "Wn9Sb2NLpx0I"
      },
      "outputs": [],
      "source": [
        "class ARI:\n",
        "\n",
        "    def __init__(self, X, A, B):\n",
        "        self.X = X\n",
        "        self.N = len(self.X)\n",
        "        self.A = A\n",
        "        self.B = B\n",
        "        self.K_A = len(self.A)\n",
        "        self.K_B = len(self.B)\n",
        "        self.N_2 = binom(self.N, 2)\n",
        "\n",
        "    def inter(self, A, B, k, m):\n",
        "        return len(set(A[k]).intersection(set(B[m])))\n",
        "\n",
        "    def find_big_summa(self):\n",
        "        summa = 0\n",
        "        for (k, m) in itertools.product(range(self.K_A), range(self.K_B)):\n",
        "            summa += binom(self.inter(self.A, self.B, k, m), 2)\n",
        "        return summa\n",
        "\n",
        "    def find_binom_summa(self, K, array):\n",
        "        result = 0\n",
        "        for k in range(K):\n",
        "            result += binom(len(array[k]), 2)\n",
        "        return result\n",
        "\n",
        "    def find_prod(self):\n",
        "        return self.find_binom_summa(self.K_A, self.A) * self.find_binom_summa(self.K_B, self.B)\n",
        "\n",
        "    def find_summ(self):\n",
        "        return self.find_binom_summa(self.K_A, self.A) + self.find_binom_summa(self.K_B, self.B)\n",
        "\n",
        "    def find(self):\n",
        "        self.summ1 = self.N_2 * self.find_big_summa()\n",
        "        self.summ2 = 1/2 * self.N_2 * self.find_prod()\n",
        "        self.summ3 = self.find_summ()\n",
        "        if self.summ1 == self.summ3:\n",
        "            return 1.0\n",
        "        if self.summ3 == self.summ2:\n",
        "            return np.sign(self.summ1 - self.summ2) * np.float('inf')\n",
        "        return (self.summ1 - self.summ2) / (self.summ3 - self.summ2)\n"
      ]
    },
    {
      "cell_type": "code",
      "execution_count": null,
      "metadata": {
        "id": "jfxRkRB80bNa"
      },
      "outputs": [],
      "source": [
        "def get_A(k, N, number):\n",
        "    n_min = N // (number * k)\n",
        "    random_values = np.random.rand(k - 1)\n",
        "    random_values = np.append(random_values, 0)\n",
        "    random_values = np.append(random_values, 1)\n",
        "    random_values = np.sort(random_values)\n",
        "    shifts = []\n",
        "    for i in range(1, k + 1):\n",
        "        shifts.append(random_values[i] - random_values[i - 1])\n",
        "    return [round(n_min + (N - k * n_min) * shifts[i]) for i in range(k)]"
      ]
    },
    {
      "cell_type": "code",
      "execution_count": null,
      "metadata": {
        "id": "taIVeHxqDvzE"
      },
      "outputs": [],
      "source": [
        "def get_data(k, N, d, eps):\n",
        "    A = get_A(k, N, 10)\n",
        "    my_class = Synthetic_data_generator(A, d, eps)\n",
        "    clusters = my_class.find_clusters()\n",
        "    centers = my_class.centroids\n",
        "    plt.figure(0)\n",
        "    plt.scatter(centers[:, 0], centers[:, 1], c='black', s=200, alpha=0.5)\n",
        "    return A, clusters, centers"
      ]
    },
    {
      "cell_type": "code",
      "source": [
        "def draw2DData(A, Data, centers):\n",
        "    label = []\n",
        "    for i in range(len(A)):\n",
        "        label.extend([i for j in range(A[i])])\n",
        "    u_labels = np.unique(label)\n",
        "    df = pd.DataFrame(Data)\n",
        "    plt.figure(1)\n",
        "    for i in u_labels:\n",
        "        plt.scatter(df[label == i][0] , df[label == i][1] , label = i)\n",
        "    plt.scatter(centers[:, 0], centers[:, 1], c='black', s=200, alpha=0.5)\n",
        "    plt.legend()\n",
        "    plt.show()"
      ],
      "metadata": {
        "id": "9-bqV2W5Ju4-"
      },
      "execution_count": null,
      "outputs": []
    },
    {
      "cell_type": "code",
      "source": [
        "def draw_data(k, N, d, eps):\n",
        "    draw2DData(*get_data(k, N, d, eps))"
      ],
      "metadata": {
        "id": "QSgDFOvxJyH6"
      },
      "execution_count": null,
      "outputs": []
    },
    {
      "cell_type": "code",
      "source": [
        "draw_data(7, 1000, 2, 0.25)"
      ],
      "metadata": {
        "colab": {
          "base_uri": "https://localhost:8080/",
          "height": 513
        },
        "id": "-GDJbnn3ZCpU",
        "outputId": "520f5b51-5fb9-47f0-a74a-faee9023c6cf"
      },
      "execution_count": null,
      "outputs": [
        {
          "output_type": "display_data",
          "data": {
            "text/plain": [
              "<Figure size 432x288 with 1 Axes>"
            ],
            "image/png": "[encoded data removed]"
          },
          "metadata": {
            "needs_background": "light"
          }
        },
        {
          "output_type": "display_data",
          "data": {
            "text/plain": [
              "<Figure size 432x288 with 1 Axes>"
            ],
            "image/png": "[encoded data removed]"
          },
          "metadata": {
            "needs_background": "light"
          }
        }
      ]
    },
    {
      "cell_type": "code",
      "execution_count": null,
      "metadata": {
        "id": "TlyWYCzXPSHt"
      },
      "outputs": [],
      "source": [
        "def make_data(cardinality):\n",
        "    ks = [7, 15]\n",
        "    Ns = [1000]\n",
        "    Epses = [0.75, 0.5, 0.25]\n",
        "    ds = [11]\n",
        "    get_datas = []\n",
        "    for k in ks:\n",
        "        for eps in Epses:\n",
        "            for i in range(cardinality):\n",
        "                get_datas.append(get_data(k, Ns[0], ds[0], eps))\n",
        "    return get_datas"
      ]
    },
    {
      "cell_type": "code",
      "execution_count": null,
      "metadata": {
        "id": "Sb8xMHQMCTbI"
      },
      "outputs": [],
      "source": [
        "def difference(k, k_est):\n",
        "    if k == 0:\n",
        "        return abs(k - k_est)\n",
        "    return abs(k - k_est) / k"
      ]
    },
    {
      "cell_type": "code",
      "execution_count": null,
      "metadata": {
        "id": "l8XcWSzsjGwr"
      },
      "outputs": [],
      "source": [
        "def get_labels(A):\n",
        "    k, n, labels, index = len(A), np.sum(A), [], 0\n",
        "    for i in range(len(A)):\n",
        "        cur_labels = []\n",
        "        for j in range(A[i]):\n",
        "            cur_labels.append(index)\n",
        "            index += 1\n",
        "        labels.append(cur_labels)\n",
        "    return labels"
      ]
    },
    {
      "cell_type": "code",
      "execution_count": null,
      "metadata": {
        "id": "BJa7vaFtkKcx"
      },
      "outputs": [],
      "source": [
        "def get_new_labels(old_labels):\n",
        "    n, k, new_labels = len(old_labels), len(set(old_labels)), [[] for i in range(k)]\n",
        "    for i in range(n):\n",
        "        new_labels[old_labels[i]].append(i)\n",
        "    return new_labels"
      ]
    },
    {
      "cell_type": "code",
      "execution_count": null,
      "metadata": {
        "id": "woZUEiDAK5zN"
      },
      "outputs": [],
      "source": [
        "def get_labels_UKMeans(k_est, z):\n",
        "    new_labels = [list(np.where(np.array(z)[:,i])[0]) for i in range(k_est)]\n",
        "    return new_labels"
      ]
    },
    {
      "cell_type": "code",
      "execution_count": null,
      "metadata": {
        "id": "Ell9IdRhE1tA"
      },
      "outputs": [],
      "source": [
        "def make_LOG_Means(cardinality, count, get_datas):\n",
        "    difs = [[0 for i in range(cardinality)] for j in range(count)]\n",
        "    aris = [[0 for i in range(cardinality)] for j in range(count)]\n",
        "    meandifs, stddifs, meanaris, stdaris = [], [], [], []\n",
        "    for i in range(count):\n",
        "        for j in range(cardinality):\n",
        "            A, Matr = get_datas[i * count + j]\n",
        "            k_est, clusters = LOG_Means(Matr, pd.DataFrame(Matr), 2, 5 * len(A), 0).find()\n",
        "            difs[i][j] = difference(len(A), k_est)\n",
        "            aris[i][j] = ARI(Matr, get_labels(A), get_new_labels(clusters)).find()\n",
        "        meandifs.append(np.mean(difs[i]))\n",
        "        stddifs.append(np.std(difs[i]))\n",
        "        meanaris.append(np.mean(aris[i]))\n",
        "        stdaris.append(np.std(aris[i]))\n",
        "    return meandifs, stddifs, meanaris, stdaris"
      ]
    },
    {
      "cell_type": "code",
      "execution_count": null,
      "metadata": {
        "id": "VaiFDLrPpMCZ"
      },
      "outputs": [],
      "source": [
        "def make_Second_Alg(cardinality, count, get_datas):\n",
        "    difs = [[0 for i in range(cardinality)] for j in range(count)]\n",
        "    meandifs, stddifs = [], []\n",
        "    for i in range(count):\n",
        "        for j in range(cardinality):\n",
        "            A, Matr = get_datas[i * count + j]\n",
        "            k_est = SecondAlg(Matr, dist).find()\n",
        "            difs[i][j] = difference(len(A), k_est)\n",
        "        meandifs.append(np.mean(difs[i]))\n",
        "        stddifs.append(np.std(difs[i]))\n",
        "    return meandifs, stddifs"
      ]
    },
    {
      "cell_type": "code",
      "execution_count": null,
      "metadata": {
        "id": "f8UxHrnRXj1E"
      },
      "outputs": [],
      "source": [
        "def make_Criterion(cardinality, count, get_datas):\n",
        "    difs = [[0 for i in range(cardinality)] for j in range(count)]\n",
        "    aris = [[0 for i in range(cardinality)] for j in range(count)]\n",
        "    meandifs, stddifs, meanaris, stdaris = [], [], [], []\n",
        "    for i in range(count):\n",
        "        for j in range(cardinality):\n",
        "            A, Matr = get_datas[i * count + j]\n",
        "            k_est, clusters = Criterion(Matr).find()\n",
        "            difs[i][j] = difference(len(A), k_est)\n",
        "            aris[i][j] = ARI(Matr, get_labels(A), get_new_labels(clusters)).find()\n",
        "        meandifs.append(np.mean(difs[i]))\n",
        "        stddifs.append(np.std(difs[i]))\n",
        "        meanaris.append(np.mean(aris[i]))\n",
        "        stdaris.append(np.std(aris[i]))\n",
        "    return meandifs, stddifs, meanaris, stdaris"
      ]
    },
    {
      "cell_type": "code",
      "execution_count": null,
      "metadata": {
        "id": "j6D4m3kUdSBt"
      },
      "outputs": [],
      "source": [
        "def make_CLEST(cardinality, count, get_datas):\n",
        "    difs = [[0 for i in range(cardinality)] for j in range(count)]\n",
        "    meandifs, stddifs, last_i = [], [], 0\n",
        "    for (i, j) in tqdm(itertools.product(range(count), range(cardinality))):\n",
        "        A, Matr = get_datas[i * count + j]\n",
        "        k_est = CLEST(Matr, 20, 20, 2 * len(A), KMedoids, LinearDiscriminantAnalysis(solver='lsqr', shrinkage=1), 0.05, 0.05, (get_uniform, 10, 20, (40, 10), 3), FM).find()\n",
        "        difs[i][j] = difference(len(A), k_est)\n",
        "        if last_i != i:\n",
        "            meandifs.append(np.mean(difs[last_i]))\n",
        "            stddifs.append(np.std(difs[last_i]))\n",
        "            last_i = i\n",
        "    meandifs.append(np.mean(difs[count - 1]))\n",
        "    stddifs.append(np.std(difs[count - 1]))\n",
        "    return meandifs, stddifs"
      ]
    },
    {
      "cell_type": "code",
      "execution_count": null,
      "metadata": {
        "id": "qe0mxr8Glu7j"
      },
      "outputs": [],
      "source": [
        "def make_UKMeans(cardinality, count, get_datas):\n",
        "    difs = [[0 for i in range(cardinality)] for j in range(count)]\n",
        "    aris = [[0 for i in range(cardinality)] for j in range(count)]\n",
        "    meandifs, stddifs, meanaris, stdaris, last_i  = [], [], [], [], 0\n",
        "    for (i, j) in tqdm(itertools.product(range(count), range(cardinality))):\n",
        "        A, Matr = get_datas[i * count + j]\n",
        "        k_est, a, z = U_K_Means(Matr, 0.001).find()\n",
        "        difs[i][j] = difference(len(A), k_est)\n",
        "        aris[i][j] = ARI(Matr, get_labels(A), get_labels_UKMeans(k_est, z)).find()\n",
        "        if last_i != i:\n",
        "            meandifs.append(np.mean(difs[last_i]))\n",
        "            stddifs.append(np.std(difs[last_i]))\n",
        "            meanaris.append(np.mean(aris[last_i]))\n",
        "            stdaris.append(np.std(aris[last_i]))\n",
        "            last_i = i\n",
        "    meandifs.append(np.mean(difs[count - 1]))\n",
        "    stddifs.append(np.std(difs[count - 1]))\n",
        "    meanaris.append(np.mean(aris[count - 1]))\n",
        "    stdaris.append(np.std(aris[count - 1]))\n",
        "    return meandifs, stddifs, meanaris, stdaris"
      ]
    },
    {
      "cell_type": "code",
      "source": [
        "gt_dts = make_data(10)"
      ],
      "metadata": {
        "id": "N9c3j3kl7Wk0"
      },
      "execution_count": null,
      "outputs": []
    },
    {
      "cell_type": "code",
      "source": [
        "meandifs1, stddifs1, meanaris1, stdaris1 = make_LOG_Means(10, 6, gt_dts)\n",
        "print(meandifs1, stddifs1, meanaris1, stdaris1)"
      ],
      "metadata": {
        "id": "dGQKdgMY7dXl"
      },
      "execution_count": null,
      "outputs": []
    },
    {
      "cell_type": "code",
      "source": [
        "meandifs2, stddifs2 = make_Second_Alg(10, 6, gt_dts)\n",
        "print(meandifs2, stddifs2)"
      ],
      "metadata": {
        "id": "JobbH_oe7e-R"
      },
      "execution_count": null,
      "outputs": []
    },
    {
      "cell_type": "code",
      "source": [
        "meandifs3, stddifs3, meanaris3, stdaris3 = make_Criterion(10, 6, gt_dts)\n",
        "print(meandifs3, stddifs3, meanaris1, stdaris1)"
      ],
      "metadata": {
        "id": "ihKFHq2e7gfS"
      },
      "execution_count": null,
      "outputs": []
    },
    {
      "cell_type": "code",
      "source": [
        "meandifs4, stddifs4 = make_CLEST(10, 6, gt_dts)\n",
        "print(meandifs4, stddifs4)"
      ],
      "metadata": {
        "colab": {
          "base_uri": "https://localhost:8080/",
          "height": 87,
          "referenced_widgets": [
            "f2c1a8428e3c4242afd195c490d95660",
            "f309503f2067419eaa3b4844525537f1",
            "d633087274504af1b6b7f34cb70640a2",
            "7308ab805a6e46a48c1f48ba3ee222f3",
            "ce931f0960a342a89636183cbf8b57a6",
            "dc7a319f00244a62843af6858245bfac",
            "5964f181312140a69e67fc9bc32ddf8c",
            "4c42665916df4b08a5a1ae9f963e1beb",
            "5fde7971090a4cfbaa4a133a2deda689",
            "69a9dc67e69641af9280b7d1e56eaae5",
            "f73929d70e72484f81efcf53a04dee31"
          ]
        },
        "id": "dR8g8foA7hCj",
        "outputId": "389dbc8b-de06-4da7-8275-b36021329c7d"
      },
      "execution_count": null,
      "outputs": [
        {
          "data": {
            "application/vnd.jupyter.widget-view+json": {
              "model_id": "f2c1a8428e3c4242afd195c490d95660",
              "version_major": 2,
              "version_minor": 0
            },
            "text/plain": [
              "0it [00:00, ?it/s]"
            ]
          },
          "metadata": {},
          "output_type": "display_data"
        },
        {
          "output_type": "stream",
          "name": "stdout",
          "text": [
            "[0.17142857142857143, 0.12857142857142856, 0.22857142857142856, 0.3571428571428571, 0.3380952380952381, 0.4] [0.10690449676496974, 0.1622545241657221, 0.29416086117105716, 0.3080551236121118, 0.2383712685665043, 0.1520233900132184]\n"
          ]
        }
      ]
    },
    {
      "cell_type": "code",
      "source": [
        "meandifs5, stddifs5, meanaris5, stdaris5 = make_UKMeans(10, 6, gt_dts)\n",
        "print(meandifs5, stddifs5, meanaris5, stdaris5)"
      ],
      "metadata": {
        "colab": {
          "base_uri": "https://localhost:8080/",
          "height": 87,
          "referenced_widgets": [
            "44182c79387445bda52e4afee0ba8826",
            "21f11168d9fa4db4b2bfbf2273e58aac",
            "4fa6a71388cd4e7695c5f7c4f60e018f",
            "d9aa79f63d6849c29482d7d4a9917b83",
            "1606344a7413445e83be31f967235ae8",
            "fe159468b6d04224bf83361cc9ceadf9",
            "0d188ee8f0fc4ba6a1b5ab56a4774951",
            "ecd32fd140b441b39c39316e5b0df726",
            "e8c42c28c75d426c846638392d18ccf8",
            "b4cd2a79c853481685ba92533fa34c1d",
            "9f838283b49149469e9f26737ac59f5d"
          ]
        },
        "id": "OIdILdhl7ljT",
        "outputId": "6dbf29a5-1570-4461-cac3-40efeacadbbe"
      },
      "execution_count": null,
      "outputs": [
        {
          "data": {
            "application/vnd.jupyter.widget-view+json": {
              "model_id": "44182c79387445bda52e4afee0ba8826",
              "version_major": 2,
              "version_minor": 0
            },
            "text/plain": [
              "0it [00:00, ?it/s]"
            ]
          },
          "metadata": {},
          "output_type": "display_data"
        },
        {
          "output_type": "stream",
          "name": "stdout",
          "text": [
            "[141.82857142857142, 141.82857142857145, 141.84285714285713, 141.90000000000003, 111.41809523809525, 65.64666666666666] [0.08571428571428329, 0.08571428571428329, 0.09999999999999716, 0.09147320339189524, 37.39675066826285, 0.04268749491622278] [0.0, 0.0, 0.0, 0.0, 0.0, 0.0] [0.0, 0.0, 0.0, 0.0, 0.0, 0.0]\n"
          ]
        }
      ]
    }
  ],
  "metadata": {
    "colab": {
      "provenance": []
    },
    "kernelspec": {
      "display_name": "Python 3",
      "name": "python3"
    },
    "language_info": {
      "name": "python"
    },
    "widgets": {
      "application/vnd.jupyter.widget-state+json": {
        "f2c1a8428e3c4242afd195c490d95660": {
          "model_module": "@jupyter-widgets/controls",
          "model_name": "HBoxModel",
          "model_module_version": "1.5.0",
          "state": {
            "_dom_classes": [],
            "_model_module": "@jupyter-widgets/controls",
            "_model_module_version": "1.5.0",
            "_model_name": "HBoxModel",
            "_view_count": null,
            "_view_module": "@jupyter-widgets/controls",
            "_view_module_version": "1.5.0",
            "_view_name": "HBoxView",
            "box_style": "",
            "children": [
              "IPY_MODEL_f309503f2067419eaa3b4844525537f1",
              "IPY_MODEL_d633087274504af1b6b7f34cb70640a2",
              "IPY_MODEL_7308ab805a6e46a48c1f48ba3ee222f3"
            ],
            "layout": "IPY_MODEL_ce931f0960a342a89636183cbf8b57a6"
          }
        },
        "f309503f2067419eaa3b4844525537f1": {
          "model_module": "@jupyter-widgets/controls",
          "model_name": "HTMLModel",
          "model_module_version": "1.5.0",
          "state": {
            "_dom_classes": [],
            "_model_module": "@jupyter-widgets/controls",
            "_model_module_version": "1.5.0",
            "_model_name": "HTMLModel",
            "_view_count": null,
            "_view_module": "@jupyter-widgets/controls",
            "_view_module_version": "1.5.0",
            "_view_name": "HTMLView",
            "description": "",
            "description_tooltip": null,
            "layout": "IPY_MODEL_dc7a319f00244a62843af6858245bfac",
            "placeholder": "​",
            "style": "IPY_MODEL_5964f181312140a69e67fc9bc32ddf8c",
            "value": ""
          }
        },
        "d633087274504af1b6b7f34cb70640a2": {
          "model_module": "@jupyter-widgets/controls",
          "model_name": "FloatProgressModel",
          "model_module_version": "1.5.0",
          "state": {
            "_dom_classes": [],
            "_model_module": "@jupyter-widgets/controls",
            "_model_module_version": "1.5.0",
            "_model_name": "FloatProgressModel",
            "_view_count": null,
            "_view_module": "@jupyter-widgets/controls",
            "_view_module_version": "1.5.0",
            "_view_name": "ProgressView",
            "bar_style": "success",
            "description": "",
            "description_tooltip": null,
            "layout": "IPY_MODEL_4c42665916df4b08a5a1ae9f963e1beb",
            "max": 1,
            "min": 0,
            "orientation": "horizontal",
            "style": "IPY_MODEL_5fde7971090a4cfbaa4a133a2deda689",
            "value": 1
          }
        },
        "7308ab805a6e46a48c1f48ba3ee222f3": {
          "model_module": "@jupyter-widgets/controls",
          "model_name": "HTMLModel",
          "model_module_version": "1.5.0",
          "state": {
            "_dom_classes": [],
            "_model_module": "@jupyter-widgets/controls",
            "_model_module_version": "1.5.0",
            "_model_name": "HTMLModel",
            "_view_count": null,
            "_view_module": "@jupyter-widgets/controls",
            "_view_module_version": "1.5.0",
            "_view_name": "HTMLView",
            "description": "",
            "description_tooltip": null,
            "layout": "IPY_MODEL_69a9dc67e69641af9280b7d1e56eaae5",
            "placeholder": "​",
            "style": "IPY_MODEL_f73929d70e72484f81efcf53a04dee31",
            "value": " 60/? [5:28:03&lt;00:00, 846.17s/it]"
          }
        },
        "ce931f0960a342a89636183cbf8b57a6": {
          "model_module": "@jupyter-widgets/base",
          "model_name": "LayoutModel",
          "model_module_version": "1.2.0",
          "state": {
            "_model_module": "@jupyter-widgets/base",
            "_model_module_version": "1.2.0",
            "_model_name": "LayoutModel",
            "_view_count": null,
            "_view_module": "@jupyter-widgets/base",
            "_view_module_version": "1.2.0",
            "_view_name": "LayoutView",
            "align_content": null,
            "align_items": null,
            "align_self": null,
            "border": null,
            "bottom": null,
            "display": null,
            "flex": null,
            "flex_flow": null,
            "grid_area": null,
            "grid_auto_columns": null,
            "grid_auto_flow": null,
            "grid_auto_rows": null,
            "grid_column": null,
            "grid_gap": null,
            "grid_row": null,
            "grid_template_areas": null,
            "grid_template_columns": null,
            "grid_template_rows": null,
            "height": null,
            "justify_content": null,
            "justify_items": null,
            "left": null,
            "margin": null,
            "max_height": null,
            "max_width": null,
            "min_height": null,
            "min_width": null,
            "object_fit": null,
            "object_position": null,
            "order": null,
            "overflow": null,
            "overflow_x": null,
            "overflow_y": null,
            "padding": null,
            "right": null,
            "top": null,
            "visibility": null,
            "width": null
          }
        },
        "dc7a319f00244a62843af6858245bfac": {
          "model_module": "@jupyter-widgets/base",
          "model_name": "LayoutModel",
          "model_module_version": "1.2.0",
          "state": {
            "_model_module": "@jupyter-widgets/base",
            "_model_module_version": "1.2.0",
            "_model_name": "LayoutModel",
            "_view_count": null,
            "_view_module": "@jupyter-widgets/base",
            "_view_module_version": "1.2.0",
            "_view_name": "LayoutView",
            "align_content": null,
            "align_items": null,
            "align_self": null,
            "border": null,
            "bottom": null,
            "display": null,
            "flex": null,
            "flex_flow": null,
            "grid_area": null,
            "grid_auto_columns": null,
            "grid_auto_flow": null,
            "grid_auto_rows": null,
            "grid_column": null,
            "grid_gap": null,
            "grid_row": null,
            "grid_template_areas": null,
            "grid_template_columns": null,
            "grid_template_rows": null,
            "height": null,
            "justify_content": null,
            "justify_items": null,
            "left": null,
            "margin": null,
            "max_height": null,
            "max_width": null,
            "min_height": null,
            "min_width": null,
            "object_fit": null,
            "object_position": null,
            "order": null,
            "overflow": null,
            "overflow_x": null,
            "overflow_y": null,
            "padding": null,
            "right": null,
            "top": null,
            "visibility": null,
            "width": null
          }
        },
        "5964f181312140a69e67fc9bc32ddf8c": {
          "model_module": "@jupyter-widgets/controls",
          "model_name": "DescriptionStyleModel",
          "model_module_version": "1.5.0",
          "state": {
            "_model_module": "@jupyter-widgets/controls",
            "_model_module_version": "1.5.0",
            "_model_name": "DescriptionStyleModel",
            "_view_count": null,
            "_view_module": "@jupyter-widgets/base",
            "_view_module_version": "1.2.0",
            "_view_name": "StyleView",
            "description_width": ""
          }
        },
        "4c42665916df4b08a5a1ae9f963e1beb": {
          "model_module": "@jupyter-widgets/base",
          "model_name": "LayoutModel",
          "model_module_version": "1.2.0",
          "state": {
            "_model_module": "@jupyter-widgets/base",
            "_model_module_version": "1.2.0",
            "_model_name": "LayoutModel",
            "_view_count": null,
            "_view_module": "@jupyter-widgets/base",
            "_view_module_version": "1.2.0",
            "_view_name": "LayoutView",
            "align_content": null,
            "align_items": null,
            "align_self": null,
            "border": null,
            "bottom": null,
            "display": null,
            "flex": null,
            "flex_flow": null,
            "grid_area": null,
            "grid_auto_columns": null,
            "grid_auto_flow": null,
            "grid_auto_rows": null,
            "grid_column": null,
            "grid_gap": null,
            "grid_row": null,
            "grid_template_areas": null,
            "grid_template_columns": null,
            "grid_template_rows": null,
            "height": null,
            "justify_content": null,
            "justify_items": null,
            "left": null,
            "margin": null,
            "max_height": null,
            "max_width": null,
            "min_height": null,
            "min_width": null,
            "object_fit": null,
            "object_position": null,
            "order": null,
            "overflow": null,
            "overflow_x": null,
            "overflow_y": null,
            "padding": null,
            "right": null,
            "top": null,
            "visibility": null,
            "width": "20px"
          }
        },
        "5fde7971090a4cfbaa4a133a2deda689": {
          "model_module": "@jupyter-widgets/controls",
          "model_name": "ProgressStyleModel",
          "model_module_version": "1.5.0",
          "state": {
            "_model_module": "@jupyter-widgets/controls",
            "_model_module_version": "1.5.0",
            "_model_name": "ProgressStyleModel",
            "_view_count": null,
            "_view_module": "@jupyter-widgets/base",
            "_view_module_version": "1.2.0",
            "_view_name": "StyleView",
            "bar_color": null,
            "description_width": ""
          }
        },
        "69a9dc67e69641af9280b7d1e56eaae5": {
          "model_module": "@jupyter-widgets/base",
          "model_name": "LayoutModel",
          "model_module_version": "1.2.0",
          "state": {
            "_model_module": "@jupyter-widgets/base",
            "_model_module_version": "1.2.0",
            "_model_name": "LayoutModel",
            "_view_count": null,
            "_view_module": "@jupyter-widgets/base",
            "_view_module_version": "1.2.0",
            "_view_name": "LayoutView",
            "align_content": null,
            "align_items": null,
            "align_self": null,
            "border": null,
            "bottom": null,
            "display": null,
            "flex": null,
            "flex_flow": null,
            "grid_area": null,
            "grid_auto_columns": null,
            "grid_auto_flow": null,
            "grid_auto_rows": null,
            "grid_column": null,
            "grid_gap": null,
            "grid_row": null,
            "grid_template_areas": null,
            "grid_template_columns": null,
            "grid_template_rows": null,
            "height": null,
            "justify_content": null,
            "justify_items": null,
            "left": null,
            "margin": null,
            "max_height": null,
            "max_width": null,
            "min_height": null,
            "min_width": null,
            "object_fit": null,
            "object_position": null,
            "order": null,
            "overflow": null,
            "overflow_x": null,
            "overflow_y": null,
            "padding": null,
            "right": null,
            "top": null,
            "visibility": null,
            "width": null
          }
        },
        "f73929d70e72484f81efcf53a04dee31": {
          "model_module": "@jupyter-widgets/controls",
          "model_name": "DescriptionStyleModel",
          "model_module_version": "1.5.0",
          "state": {
            "_model_module": "@jupyter-widgets/controls",
            "_model_module_version": "1.5.0",
            "_model_name": "DescriptionStyleModel",
            "_view_count": null,
            "_view_module": "@jupyter-widgets/base",
            "_view_module_version": "1.2.0",
            "_view_name": "StyleView",
            "description_width": ""
          }
        },
        "44182c79387445bda52e4afee0ba8826": {
          "model_module": "@jupyter-widgets/controls",
          "model_name": "HBoxModel",
          "model_module_version": "1.5.0",
          "state": {
            "_dom_classes": [],
            "_model_module": "@jupyter-widgets/controls",
            "_model_module_version": "1.5.0",
            "_model_name": "HBoxModel",
            "_view_count": null,
            "_view_module": "@jupyter-widgets/controls",
            "_view_module_version": "1.5.0",
            "_view_name": "HBoxView",
            "box_style": "",
            "children": [
              "IPY_MODEL_21f11168d9fa4db4b2bfbf2273e58aac",
              "IPY_MODEL_4fa6a71388cd4e7695c5f7c4f60e018f",
              "IPY_MODEL_d9aa79f63d6849c29482d7d4a9917b83"
            ],
            "layout": "IPY_MODEL_1606344a7413445e83be31f967235ae8"
          }
        },
        "21f11168d9fa4db4b2bfbf2273e58aac": {
          "model_module": "@jupyter-widgets/controls",
          "model_name": "HTMLModel",
          "model_module_version": "1.5.0",
          "state": {
            "_dom_classes": [],
            "_model_module": "@jupyter-widgets/controls",
            "_model_module_version": "1.5.0",
            "_model_name": "HTMLModel",
            "_view_count": null,
            "_view_module": "@jupyter-widgets/controls",
            "_view_module_version": "1.5.0",
            "_view_name": "HTMLView",
            "description": "",
            "description_tooltip": null,
            "layout": "IPY_MODEL_fe159468b6d04224bf83361cc9ceadf9",
            "placeholder": "​",
            "style": "IPY_MODEL_0d188ee8f0fc4ba6a1b5ab56a4774951",
            "value": ""
          }
        },
        "4fa6a71388cd4e7695c5f7c4f60e018f": {
          "model_module": "@jupyter-widgets/controls",
          "model_name": "FloatProgressModel",
          "model_module_version": "1.5.0",
          "state": {
            "_dom_classes": [],
            "_model_module": "@jupyter-widgets/controls",
            "_model_module_version": "1.5.0",
            "_model_name": "FloatProgressModel",
            "_view_count": null,
            "_view_module": "@jupyter-widgets/controls",
            "_view_module_version": "1.5.0",
            "_view_name": "ProgressView",
            "bar_style": "success",
            "description": "",
            "description_tooltip": null,
            "layout": "IPY_MODEL_ecd32fd140b441b39c39316e5b0df726",
            "max": 1,
            "min": 0,
            "orientation": "horizontal",
            "style": "IPY_MODEL_e8c42c28c75d426c846638392d18ccf8",
            "value": 1
          }
        },
        "d9aa79f63d6849c29482d7d4a9917b83": {
          "model_module": "@jupyter-widgets/controls",
          "model_name": "HTMLModel",
          "model_module_version": "1.5.0",
          "state": {
            "_dom_classes": [],
            "_model_module": "@jupyter-widgets/controls",
            "_model_module_version": "1.5.0",
            "_model_name": "HTMLModel",
            "_view_count": null,
            "_view_module": "@jupyter-widgets/controls",
            "_view_module_version": "1.5.0",
            "_view_name": "HTMLView",
            "description": "",
            "description_tooltip": null,
            "layout": "IPY_MODEL_b4cd2a79c853481685ba92533fa34c1d",
            "placeholder": "​",
            "style": "IPY_MODEL_9f838283b49149469e9f26737ac59f5d",
            "value": " 60/? [1:13:15&lt;00:00, 71.07s/it]"
          }
        },
        "1606344a7413445e83be31f967235ae8": {
          "model_module": "@jupyter-widgets/base",
          "model_name": "LayoutModel",
          "model_module_version": "1.2.0",
          "state": {
            "_model_module": "@jupyter-widgets/base",
            "_model_module_version": "1.2.0",
            "_model_name": "LayoutModel",
            "_view_count": null,
            "_view_module": "@jupyter-widgets/base",
            "_view_module_version": "1.2.0",
            "_view_name": "LayoutView",
            "align_content": null,
            "align_items": null,
            "align_self": null,
            "border": null,
            "bottom": null,
            "display": null,
            "flex": null,
            "flex_flow": null,
            "grid_area": null,
            "grid_auto_columns": null,
            "grid_auto_flow": null,
            "grid_auto_rows": null,
            "grid_column": null,
            "grid_gap": null,
            "grid_row": null,
            "grid_template_areas": null,
            "grid_template_columns": null,
            "grid_template_rows": null,
            "height": null,
            "justify_content": null,
            "justify_items": null,
            "left": null,
            "margin": null,
            "max_height": null,
            "max_width": null,
            "min_height": null,
            "min_width": null,
            "object_fit": null,
            "object_position": null,
            "order": null,
            "overflow": null,
            "overflow_x": null,
            "overflow_y": null,
            "padding": null,
            "right": null,
            "top": null,
            "visibility": null,
            "width": null
          }
        },
        "fe159468b6d04224bf83361cc9ceadf9": {
          "model_module": "@jupyter-widgets/base",
          "model_name": "LayoutModel",
          "model_module_version": "1.2.0",
          "state": {
            "_model_module": "@jupyter-widgets/base",
            "_model_module_version": "1.2.0",
            "_model_name": "LayoutModel",
            "_view_count": null,
            "_view_module": "@jupyter-widgets/base",
            "_view_module_version": "1.2.0",
            "_view_name": "LayoutView",
            "align_content": null,
            "align_items": null,
            "align_self": null,
            "border": null,
            "bottom": null,
            "display": null,
            "flex": null,
            "flex_flow": null,
            "grid_area": null,
            "grid_auto_columns": null,
            "grid_auto_flow": null,
            "grid_auto_rows": null,
            "grid_column": null,
            "grid_gap": null,
            "grid_row": null,
            "grid_template_areas": null,
            "grid_template_columns": null,
            "grid_template_rows": null,
            "height": null,
            "justify_content": null,
            "justify_items": null,
            "left": null,
            "margin": null,
            "max_height": null,
            "max_width": null,
            "min_height": null,
            "min_width": null,
            "object_fit": null,
            "object_position": null,
            "order": null,
            "overflow": null,
            "overflow_x": null,
            "overflow_y": null,
            "padding": null,
            "right": null,
            "top": null,
            "visibility": null,
            "width": null
          }
        },
        "0d188ee8f0fc4ba6a1b5ab56a4774951": {
          "model_module": "@jupyter-widgets/controls",
          "model_name": "DescriptionStyleModel",
          "model_module_version": "1.5.0",
          "state": {
            "_model_module": "@jupyter-widgets/controls",
            "_model_module_version": "1.5.0",
            "_model_name": "DescriptionStyleModel",
            "_view_count": null,
            "_view_module": "@jupyter-widgets/base",
            "_view_module_version": "1.2.0",
            "_view_name": "StyleView",
            "description_width": ""
          }
        },
        "ecd32fd140b441b39c39316e5b0df726": {
          "model_module": "@jupyter-widgets/base",
          "model_name": "LayoutModel",
          "model_module_version": "1.2.0",
          "state": {
            "_model_module": "@jupyter-widgets/base",
            "_model_module_version": "1.2.0",
            "_model_name": "LayoutModel",
            "_view_count": null,
            "_view_module": "@jupyter-widgets/base",
            "_view_module_version": "1.2.0",
            "_view_name": "LayoutView",
            "align_content": null,
            "align_items": null,
            "align_self": null,
            "border": null,
            "bottom": null,
            "display": null,
            "flex": null,
            "flex_flow": null,
            "grid_area": null,
            "grid_auto_columns": null,
            "grid_auto_flow": null,
            "grid_auto_rows": null,
            "grid_column": null,
            "grid_gap": null,
            "grid_row": null,
            "grid_template_areas": null,
            "grid_template_columns": null,
            "grid_template_rows": null,
            "height": null,
            "justify_content": null,
            "justify_items": null,
            "left": null,
            "margin": null,
            "max_height": null,
            "max_width": null,
            "min_height": null,
            "min_width": null,
            "object_fit": null,
            "object_position": null,
            "order": null,
            "overflow": null,
            "overflow_x": null,
            "overflow_y": null,
            "padding": null,
            "right": null,
            "top": null,
            "visibility": null,
            "width": "20px"
          }
        },
        "e8c42c28c75d426c846638392d18ccf8": {
          "model_module": "@jupyter-widgets/controls",
          "model_name": "ProgressStyleModel",
          "model_module_version": "1.5.0",
          "state": {
            "_model_module": "@jupyter-widgets/controls",
            "_model_module_version": "1.5.0",
            "_model_name": "ProgressStyleModel",
            "_view_count": null,
            "_view_module": "@jupyter-widgets/base",
            "_view_module_version": "1.2.0",
            "_view_name": "StyleView",
            "bar_color": null,
            "description_width": ""
          }
        },
        "b4cd2a79c853481685ba92533fa34c1d": {
          "model_module": "@jupyter-widgets/base",
          "model_name": "LayoutModel",
          "model_module_version": "1.2.0",
          "state": {
            "_model_module": "@jupyter-widgets/base",
            "_model_module_version": "1.2.0",
            "_model_name": "LayoutModel",
            "_view_count": null,
            "_view_module": "@jupyter-widgets/base",
            "_view_module_version": "1.2.0",
            "_view_name": "LayoutView",
            "align_content": null,
            "align_items": null,
            "align_self": null,
            "border": null,
            "bottom": null,
            "display": null,
            "flex": null,
            "flex_flow": null,
            "grid_area": null,
            "grid_auto_columns": null,
            "grid_auto_flow": null,
            "grid_auto_rows": null,
            "grid_column": null,
            "grid_gap": null,
            "grid_row": null,
            "grid_template_areas": null,
            "grid_template_columns": null,
            "grid_template_rows": null,
            "height": null,
            "justify_content": null,
            "justify_items": null,
            "left": null,
            "margin": null,
            "max_height": null,
            "max_width": null,
            "min_height": null,
            "min_width": null,
            "object_fit": null,
            "object_position": null,
            "order": null,
            "overflow": null,
            "overflow_x": null,
            "overflow_y": null,
            "padding": null,
            "right": null,
            "top": null,
            "visibility": null,
            "width": null
          }
        },
        "9f838283b49149469e9f26737ac59f5d": {
          "model_module": "@jupyter-widgets/controls",
          "model_name": "DescriptionStyleModel",
          "model_module_version": "1.5.0",
          "state": {
            "_model_module": "@jupyter-widgets/controls",
            "_model_module_version": "1.5.0",
            "_model_name": "DescriptionStyleModel",
            "_view_count": null,
            "_view_module": "@jupyter-widgets/base",
            "_view_module_version": "1.2.0",
            "_view_name": "StyleView",
            "description_width": ""
          }
        }
      }
    }
  },
  "nbformat": 4,
  "nbformat_minor": 0
}